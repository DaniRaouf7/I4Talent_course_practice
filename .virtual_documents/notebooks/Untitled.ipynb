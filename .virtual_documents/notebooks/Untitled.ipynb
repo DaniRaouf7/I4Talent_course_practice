


import pandas as pd


def read_data(datapath: str) -> pd.DataFrame:
    return pd.read_csv(datapath)
    


df = read_data('../data/train.csv')
df.head(5)


def drop_irrelevant_column(df: pd.DataFrame, cols_list: list[str]) -> pd.DataFrame:
    return df.drop(columns=cols_list)


def get_final_dataframe(datapath: str) -> pd.DataFrame:
    return(read_data(datapath)
           .pipe(drop_irrelevant_column, ['Name', 'PassengerId'])
          )


df_clean = get_final_dataframe('../data/train.csv')
df_clean
